{
 "cells": [
  {
   "cell_type": "markdown",
   "id": "ac1c4294",
   "metadata": {},
   "source": [
    "Electric Company\n",
    "Create a function that given a list which represents street lights given as a parameter, determine if an outage has occurred. A street with a total number of “F” greater than or equal to 2 returns “Outage”, anything below returns “Power”\n",
    "Example Input: [ 'T', 'F', 'F', 'F' ]\n",
    "Example Output: “Outage”"
   ]
  },
  {
   "cell_type": "code",
   "execution_count": 14,
   "id": "c902bfc5",
   "metadata": {},
   "outputs": [
    {
     "ename": "SyntaxError",
     "evalue": "invalid syntax (<ipython-input-14-920c692f2895>, line 6)",
     "output_type": "error",
     "traceback": [
      "\u001b[0;36m  File \u001b[0;32m\"<ipython-input-14-920c692f2895>\"\u001b[0;36m, line \u001b[0;32m6\u001b[0m\n\u001b[0;31m    for i in my_street:\u001b[0m\n\u001b[0m                      ^\u001b[0m\n\u001b[0;31mSyntaxError\u001b[0m\u001b[0;31m:\u001b[0m invalid syntax\n"
     ]
    }
   ],
   "source": [
    "input: ['T','F','F','F'] \n",
    "    \n",
    "def outage_detect (my_street):\n",
    "    working_lights = []\n",
    "    light_line = len(list(street) \n",
    "    for i in my_street:\n",
    "        if i == \"F\":\n",
    "            continue\n",
    "        else:\n",
    "            working_lights.append(i)\n",
    "    if len(working_lights) > light_line / 2:\n",
    "        return \"All good!\"\n",
    "    else:\n",
    "        return \"Outage!\"\n",
    "        \n",
    "        \n",
    "outage_detect(input)\n",
    "        "
   ]
  },
  {
   "cell_type": "code",
   "execution_count": null,
   "id": "649a53ea",
   "metadata": {},
   "outputs": [],
   "source": []
  }
 ],
 "metadata": {
  "kernelspec": {
   "display_name": "Python 3",
   "language": "python",
   "name": "python3"
  },
  "language_info": {
   "codemirror_mode": {
    "name": "ipython",
    "version": 3
   },
   "file_extension": ".py",
   "mimetype": "text/x-python",
   "name": "python",
   "nbconvert_exporter": "python",
   "pygments_lexer": "ipython3",
   "version": "3.8.8"
  }
 },
 "nbformat": 4,
 "nbformat_minor": 5
}
